{
 "cells": [
  {
   "cell_type": "markdown",
   "id": "8e2dd1a29d98dfd",
   "metadata": {},
   "source": [
    "## The Hit Rate Curve Model\n",
    "\n",
    "The hit rate curve model is essential in market making. It quantifies the probability of getting traded given the assets, quoted price and etc. In this notebook, we'll calibrate a simple hit-rate curve model by using logistic regression."
   ]
  },
  {
   "cell_type": "code",
   "execution_count": 2,
   "id": "e6969aeb85a83a0c",
   "metadata": {
    "ExecuteTime": {
     "end_time": "2024-03-26T23:31:06.596901Z",
     "start_time": "2024-03-26T23:29:36.719638Z"
    }
   },
   "outputs": [],
   "source": [
    "import pandas as pd \n",
    "\n",
    "orderBook = pd.read_csv(\"../data/lakeAPIData/orderbook/BTC-USDT_Jan2024.csv.gzip\", compression=\"gzip\")\n",
    "tradeRecords = pd.read_csv(\"../data/lakeAPIData/trades/BTC-USDT_Jan2024.csv.gzip\", compression=\"gzip\")"
   ]
  },
  {
   "cell_type": "code",
   "execution_count": 3,
   "id": "5139dbdc086b65f8",
   "metadata": {
    "ExecuteTime": {
     "end_time": "2024-03-26T23:39:33.159006Z",
     "start_time": "2024-03-26T23:37:49.250948Z"
    }
   },
   "outputs": [
    {
     "name": "stderr",
     "output_type": "stream",
     "text": [
      "/var/folders/gk/84qz5jf14sv1p3ng1xdnk21r0000gn/T/ipykernel_43061/2441328924.py:13: SettingWithCopyWarning: \n",
      "A value is trying to be set on a copy of a slice from a DataFrame\n",
      "\n",
      "See the caveats in the documentation: https://pandas.pydata.org/pandas-docs/stable/user_guide/indexing.html#returning-a-view-versus-a-copy\n",
      "  tradeRecords.rename(columns = {'quantity':'tradeSize','price':'tradePrice'}, inplace = True)\n"
     ]
    }
   ],
   "source": [
    "\n",
    "\n",
    "def orderBookFeatures(orderBook:pd.DataFrame)->pd.DataFrame:\n",
    "    \n",
    "    orderBook['bidOffer'] = orderBook['ask_0_price'] - orderBook['bid_0_price']\n",
    "    orderBook['midPrice'] = (orderBook['ask_0_price'] + orderBook['bid_0_price'])/2.0\n",
    "    for i in range(20):\n",
    "        orderBook['ask_' + str(i) + '_Bo'] = (orderBook['ask_' + str(i) + '_price'] - orderBook['midPrice'])/orderBook['bidOffer']\n",
    "        orderBook['bid_' + str(i) + '_Bo'] = (-orderBook['bid_' + str(i) + '_price'] + orderBook['midPrice'])/orderBook['bidOffer']\n",
    "        orderBook = orderBook.drop(columns=['bid_' + str(i) + '_price','ask_' + str(i) + '_price'])\n",
    "    return orderBook\n",
    "\n",
    "def tradeFeatures(tradeRecords:pd.DataFrame)->pd.DataFrame:\n",
    "    tradeRecords = tradeRecords[['side','quantity','price','received_time','symbol']]\n",
    "    tradeRecords.rename(columns = {'quantity':'tradeSize','price':'tradePrice'}, inplace = True)\n",
    "    return tradeRecords\n",
    "\n",
    "\n",
    "ordb = orderBookFeatures(orderBook).convert_dtypes().sort_values(by='received_time')\n",
    "trd = tradeFeatures(tradeRecords).convert_dtypes().sort_values(by='received_time')\n",
    "ordb['received_time'] = pd.to_datetime(ord['received_time'] )\n",
    "trd['received_time'] = pd.to_datetime(trd['received_time'] )\n",
    "completeBook = pd.merge_asof(ordb, trd, on=\"received_time\")\n",
    "completeBook['tradedBo'] = completeBook.apply(lambda x : (x['tradePrice'] - x['midPrice'])/x['bidOffer'] if x['side'] == 'buy' else (x['midPrice'] - x['tradePrice'])/x['bidOffer'],axis = 1 )\n",
    "completeBook['tradedBo'] = completeBook.apply(lambda x : (x['tradePrice'] - x['midPrice'])/x['bidOffer'] if x['side'] == 'buy' else (x['midPrice'] - x['tradePrice'])/x['bidOffer'],axis = 1 )\n",
    "completeBook = completeBook[completeBook['tradedBo'] > 0]\n"
   ]
  },
  {
   "cell_type": "code",
   "execution_count": null,
   "id": "c154a7a4796cf3a6",
   "metadata": {
    "ExecuteTime": {
     "start_time": "2024-03-27T00:02:01.607042Z"
    },
    "is_executing": true
   },
   "outputs": [],
   "source": [
    "def generateDataSet(orderBook:pd.DataFrame)->pd.DataFrame:\n",
    "    data = {'side':[], 'distance':[], 'traded':[], 'symbol':[], 'size':[]}\n",
    "    symb = orderBook['symbol'].values[0]\n",
    "    side = orderBook['side'].values[0]\n",
    "    size = orderBook['tradeSize'].values[0]\n",
    "    tradedBo = orderBook['tradedBo'].values[0]\n",
    "    data['side'] += ['B' if side == 'sell' else 'S']\n",
    "    data['symbol'] += [symb]\n",
    "    data['distance'] += [tradedBo]\n",
    "    data['traded'] += [1]\n",
    "    data['size'] += [size]\n",
    "    \n",
    "    for i in range(3):\n",
    "        distance = orderBook['bid_{}_Bo'.format(i)].values[0]\n",
    "        size = orderBook['bid_{}_size'.format(i)].values[0]\n",
    "        data['side'] += ['B']\n",
    "        data['symbol'] += [symb]\n",
    "        data['distance'] += [distance]\n",
    "        data['traded'] += [0]\n",
    "        data['size'] += [size]\n",
    "    \n",
    "    data = pd.DataFrame(data)\n",
    "    return data \n",
    "\n",
    "dataSet = completeBook.apply(lambda x : generateDataSet(x), axis = 1)\n"
   ]
  },
  {
   "cell_type": "code",
   "execution_count": 33,
   "id": "622916fed5e58bbe",
   "metadata": {
    "ExecuteTime": {
     "end_time": "2024-03-26T23:44:52.576072Z",
     "start_time": "2024-03-26T23:43:56.097323Z"
    }
   },
   "outputs": [],
   "source": [
    "data = completeBook[['tradedBo','tradeSize','side']].rename(columns = {'tradedBo':'dt', 'tradeSize':'size'})\n",
    "data['side'] = data['side'].apply(lambda x: 'B' if x == 'sell' else 'S')\n",
    "data['traded'] = True\n",
    "for i in range(1):\n",
    "    sampleB = completeBook[['bid_{}_size'.format(i),'bid_{}_Bo'.format(i)]].rename(columns = {'bid_{}_size'.format(i):'size', 'bid_{}_Bo'.format(i):'dt'})\n",
    "    sampleB['traded'] = False\n",
    "    sampleB['side'] = 'B'\n",
    "    \n",
    "    sampleS = completeBook[['ask_{}_size'.format(i),'ask_{}_Bo'.format(i)]].rename(columns = {'ask_{}_size'.format(i):'size', 'ask_{}_Bo'.format(i):'dt'})\n",
    "    sampleS['traded'] = False\n",
    "    sampleS['side'] = 'S'\n",
    "    \n",
    "    data = pd.concat([sampleB,sampleS,data])\n",
    "\n",
    "data['mlt'] = 1\n",
    "data.loc[data['side'] == 'B', 'mlt'] = -1\n",
    "data['dt'] *= data['mlt']\n"
   ]
  },
  {
   "cell_type": "code",
   "execution_count": 41,
   "id": "374b2960735fb847",
   "metadata": {
    "ExecuteTime": {
     "end_time": "2024-03-26T23:51:32.656129Z",
     "start_time": "2024-03-26T23:51:25.525059Z"
    }
   },
   "outputs": [],
   "source": [
    "from sklearn.linear_model import LogisticRegression\n",
    "\n",
    "X = data[['size','dt']].values\n",
    "y = data[['traded']].values"
   ]
  },
  {
   "cell_type": "code",
   "execution_count": 42,
   "id": "674d8a75d1e888ce",
   "metadata": {},
   "outputs": [
    {
     "name": "stderr",
     "output_type": "stream",
     "text": [
      "/Users/maoguan/anaconda3/envs/py38Env/lib/python3.8/site-packages/sklearn/utils/validation.py:1183: DataConversionWarning: A column-vector y was passed when a 1d array was expected. Please change the shape of y to (n_samples, ), for example using ravel().\n",
      "  y = column_or_1d(y, warn=True)\n"
     ]
    }
   ],
   "source": [
    "clf = LogisticRegression(random_state=0).fit(X, y)"
   ]
  },
  {
   "cell_type": "code",
   "execution_count": 48,
   "id": "2fe44e89",
   "metadata": {},
   "outputs": [],
   "source": [
    "r = clf.predict_proba(X)"
   ]
  },
  {
   "cell_type": "code",
   "execution_count": 60,
   "id": "b5d4e767",
   "metadata": {},
   "outputs": [
    {
     "data": {
      "text/plain": [
       "array([0.        , 0.        , 0.        , ..., 0.94021493, 0.9404629 ,\n",
       "       0.94473573])"
      ]
     },
     "execution_count": 60,
     "metadata": {},
     "output_type": "execute_result"
    }
   ],
   "source": [
    "import numpy as np\n",
    "\n",
    "np.sort(r[:,1])"
   ]
  },
  {
   "cell_type": "code",
   "execution_count": null,
   "id": "faefed77",
   "metadata": {},
   "outputs": [],
   "source": []
  }
 ],
 "metadata": {
  "kernelspec": {
   "display_name": "Python 3 (ipykernel)",
   "language": "python",
   "name": "python3"
  },
  "language_info": {
   "codemirror_mode": {
    "name": "ipython",
    "version": 3
   },
   "file_extension": ".py",
   "mimetype": "text/x-python",
   "name": "python",
   "nbconvert_exporter": "python",
   "pygments_lexer": "ipython3",
   "version": "3.8.17"
  }
 },
 "nbformat": 4,
 "nbformat_minor": 5
}
