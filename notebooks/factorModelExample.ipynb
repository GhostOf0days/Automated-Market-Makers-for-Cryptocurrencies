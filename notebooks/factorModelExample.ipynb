{
 "cells": [
  {
   "cell_type": "code",
   "execution_count": 292,
   "id": "initial_id",
   "metadata": {
    "collapsed": true,
    "ExecuteTime": {
     "end_time": "2024-03-23T05:41:18.201343Z",
     "start_time": "2024-03-23T05:41:04.960573Z"
    }
   },
   "outputs": [],
   "source": [
    "import time\n",
    "from typing import Dict, List\n",
    "import pandas as pd\n",
    "import numpy as np\n",
    "import datetime\n",
    "import glob\n",
    "\n",
    "STOREPath =  \"/Users/maoguan/workspace/RL-AMM/data/factorData/\"\n",
    "OHLCPath = \"/Users/maoguan/workspace/RL-AMM/data/lakeAPIData/OHLC/\"\n",
    "\n",
    "\n",
    "fileLists = glob.glob(OHLCPath + \"*\")\n",
    "\n",
    "\n",
    "def extractDateFromTime(timestamp:pd.Timestamp)->datetime.date:\n",
    "    year = timestamp.year\n",
    "    month = timestamp.month\n",
    "    day = timestamp.day\n",
    "    date = datetime.datetime(year=year, month=month, day=day)\n",
    "    return date \n",
    "\n",
    "data = []\n",
    "\n",
    "for file in fileLists:\n",
    "\n",
    "    minuteLevelOHLC = pd.read_csv(file, compression=\"gzip\")\n",
    "    minuteLevelOHLC = minuteLevelOHLC.convert_dtypes()\n",
    "    minuteLevelOHLC['origin_time'] = pd.to_datetime(minuteLevelOHLC['origin_time'])\n",
    "    minuteLevelOHLC['date'] = minuteLevelOHLC['origin_time'].apply(lambda x : extractDateFromTime(x))\n",
    "    data += [minuteLevelOHLC]\n",
    "\n",
    "data = pd.concat(data)\n",
    "data['return'] = (data['close'] - data['open'])/data['open']\n",
    "#Market return is defined as the average return of all the cryptocurrencies return\n",
    "mktReturn = data.groupby(\"origin_time\").agg({'return':np.mean})\n",
    "mktReturn.rename(columns={'return':'mktReturn'}, inplace=True)\n",
    "data = pd.merge(data, mktReturn, on='origin_time', how='left')\n",
    "data = data.dropna()\n"
   ]
  },
  {
   "cell_type": "code",
   "outputs": [],
   "source": [
    "TOTALNUMOFCOINS = len(set(data['symbol'].values))\n",
    "LOWLEVEL = int(TOTALNUMOFCOINS/3)\n",
    "HIGHLEVEL= int(TOTALNUMOFCOINS - TOTALNUMOFCOINS/3)"
   ],
   "metadata": {
    "collapsed": false,
    "ExecuteTime": {
     "end_time": "2024-03-23T05:41:18.775889Z",
     "start_time": "2024-03-23T05:41:18.212279Z"
    }
   },
   "id": "19549497f3a544af",
   "execution_count": 293
  },
  {
   "cell_type": "code",
   "outputs": [],
   "source": [
    "def generateLiqBucketSymbols(data:pd.DataFrame)->Dict:\n",
    "    \"\"\"\"\"\"\n",
    "    Liq = data.groupby(\"symbol\").agg({'trades':np.mean}).sort_values(by='trades')\n",
    "    Liq.rename(columns={'trades':'Liq'}, inplace=True)\n",
    "    LOWLiq = Liq['Liq'].values[0:LOWLEVEL].max()\n",
    "    HIGHLiq = Liq['Liq'].values[0:HIGHLEVEL].max()\n",
    "    lowLiqSymbols = Liq[Liq['Liq']<=LOWLiq].reset_index()['symbol'].values\n",
    "    mediumLiqSymbols = Liq[(Liq['Liq']>LOWLiq)&(Liq['Liq']<HIGHLiq)].reset_index()['symbol'].values\n",
    "    highLiqSymbols = Liq[Liq['Liq']>=HIGHLiq].reset_index()['symbol'].values\n",
    "    return {'low': lowLiqSymbols, 'medium':mediumLiqSymbols, 'high':highLiqSymbols}\n",
    "\n",
    "LiqBucketSyms = generateLiqBucketSymbols(data)"
   ],
   "metadata": {
    "collapsed": false,
    "ExecuteTime": {
     "end_time": "2024-03-23T05:41:18.922443Z",
     "start_time": "2024-03-23T05:41:18.778239Z"
    }
   },
   "id": "1d74a29eceb3c55d",
   "execution_count": 294
  },
  {
   "cell_type": "code",
   "outputs": [],
   "source": [
    "def getBeta(xVar:str, yVar:str, df:pd.DataFrame) -> float:\n",
    "    df = df.sort_values(\"received_time\").set_index(\"received_time\")\n",
    "    x = df[xVar].values\n",
    "    y = df[yVar].values\n",
    "    beta = np.sum( (x - np.mean(x))*(y - np.mean(y)) ) / np.sum((x - np.mean(x))**2)\n",
    "    return beta \n",
    "\n",
    "\n",
    "Beta = data.groupby(\"symbol\").apply(lambda x : getBeta('return','mktReturn', x))\n",
    "Beta = pd.DataFrame({'beta':Beta})\n",
    "\n",
    "def generateVolBucketSymbols(Beta:pd.DataFrame) ->Dict:\n",
    "    Beta = Beta.sort_values(by='beta')\n",
    "    LOWBeta = Beta['beta'].values[0:LOWLEVEL].max()\n",
    "    HIGHBeta = Beta['beta'].values[0:HIGHLEVEL].max()\n",
    "    lowBetaSymbols = Beta[Beta['beta']<=LOWBeta].reset_index()['symbol'].values\n",
    "    mediumBetaSymbols = Beta[(Beta['beta']>LOWBeta)&(Beta['beta']<HIGHBeta)].reset_index()['symbol'].values\n",
    "    highBetaSymbols = Beta[Beta['beta']>=HIGHBeta].reset_index()['symbol'].values\n",
    "    return {'low':lowBetaSymbols, 'medium':mediumBetaSymbols, 'high':highBetaSymbols}\n",
    "\n",
    "VolBucketSyms = generateVolBucketSymbols(Beta)"
   ],
   "metadata": {
    "collapsed": false,
    "ExecuteTime": {
     "end_time": "2024-03-23T05:41:20.440511Z",
     "start_time": "2024-03-23T05:41:18.925611Z"
    }
   },
   "id": "cc2cf224638dc749",
   "execution_count": 295
  },
  {
   "cell_type": "code",
   "outputs": [],
   "source": [
    "import functools\n",
    "\n",
    "def getMomentum(basicRet:str, df:pd.DataFrame, windows:List = [60,2*60, 3*60,6*60,12*60]) -> float:\n",
    "    df = df.sort_values(by='received_time')\n",
    "    for window in windows:\n",
    "        df[basicRet+str(window)] = df.rolling(window)['return'].sum()\n",
    "    df['momentum'] = functools.reduce(lambda a, b: a+b, [df[basicRet+str(window)] for window in windows])\n",
    "\n",
    "    return df \n",
    "\n",
    "momentum = data.groupby(\"symbol\").apply(lambda x: getMomentum('return',x)).reset_index(drop=True)\n",
    "momentum = momentum.groupby([\"symbol\",\"date\"]).agg({'momentum':np.mean}).reset_index()\n",
    "#last day momentum\n",
    "momentum = momentum[momentum['date'] == '2024-01-30']\n",
    "\n",
    "def generateMomBucketSymbols(Mom:pd.DataFrame, date:str)->Dict:\n",
    "    Mom = Mom[Mom['date']==date].sort_values(by='momentum')\n",
    "    LOWMom = Mom['momentum'].values[0:LOWLEVEL].max()\n",
    "    HIGHMom = Mom['momentum'].values[0:HIGHLEVEL].max()\n",
    "    lowMomSymbols = Mom[Mom['momentum']<=LOWMom].reset_index()['symbol'].values\n",
    "    mediumMomSymbols = Mom[(Mom['momentum']>LOWMom)&(Mom['momentum']<HIGHMom)].reset_index()['symbol'].values\n",
    "    highMomSymbols = Mom[Mom['momentum']>=HIGHMom].reset_index()['symbol'].values\n",
    "    return {'low':lowMomSymbols, 'medium':mediumMomSymbols, 'high':highMomSymbols}\n",
    "\n",
    "MomBucketSyms = generateMomBucketSymbols(momentum,'2024-01-30')"
   ],
   "metadata": {
    "collapsed": false,
    "ExecuteTime": {
     "end_time": "2024-03-23T05:41:23.597261Z",
     "start_time": "2024-03-23T05:41:20.443447Z"
    }
   },
   "id": "14aec84a057bd03",
   "execution_count": 296
  },
  {
   "cell_type": "code",
   "outputs": [],
   "source": [
    "class riskFactor(object):\n",
    "    \n",
    "    def __init__(self, name, componentSymbols, freq = '1m'):\n",
    "        self._factorName = name\n",
    "        self._symbols = componentSymbols\n",
    "        self._freq = '1m'\n",
    "        return \n",
    "    \n",
    "    @property\n",
    "    def name(self):\n",
    "        return self._factorName\n",
    "    \n",
    "    @property\n",
    "    def symbols(self):\n",
    "        return self._symbols\n",
    "        \n",
    "    @property\n",
    "    def freq(self):\n",
    "        return self._freq\n",
    "    \n",
    "    @property\n",
    "    def factorRetTS(self):\n",
    "        return self._factorTS\n",
    "    \n",
    "    def getFactorReturnTS(self, data:pd.DataFrame)->pd.DataFrame:\n",
    "        \"\"\"\n",
    "        Calculate risk factor returns given frequency and symbols\n",
    "        Parameters\n",
    "        ----------\n",
    "        data: a panel dataframe with all symbols and their corresponding returns\n",
    "\n",
    "        Returns: a timeSeries table of risk factor returns and time\n",
    "        -------\n",
    "\n",
    "        \"\"\"\n",
    "        factorRet = data[data['symbol'].isin(self._symbols)].groupby(\"origin_time\").agg({'return':np.mean})\n",
    "        factorRet.rename(columns={'return':self._factorName}, inplace=True)\n",
    "        self._factorTS = factorRet\n",
    "        return \n",
    "        \n",
    "    \n",
    "    def storeData(self):\n",
    "        self._factorTS.to_csv(STOREPath+self._factorName+\".csv\", index = False)\n",
    "        "
   ],
   "metadata": {
    "collapsed": false,
    "ExecuteTime": {
     "end_time": "2024-03-23T05:44:01.040617Z",
     "start_time": "2024-03-23T05:44:01.036826Z"
    }
   },
   "id": "8dd8d947ea4ee040",
   "execution_count": 300
  },
  {
   "cell_type": "markdown",
   "source": [
    "## Systematic Risk Factors\n",
    "\n",
    ">* Liquidity: High,Medium, Low, liquidity is defined as the average trading volume\n",
    ">* Momentum: High, Medium, Low, momentum is defined as the crypto's past 3 hour, 6 hours, 12 hours, 18 hours\n",
    ">* Market: Average crypto coins return\n",
    ">* Volatility: High, Medium, Low, defined as the beta coefficient to the market risk"
   ],
   "metadata": {
    "collapsed": false
   },
   "id": "9214727f80878cb8"
  },
  {
   "cell_type": "code",
   "outputs": [],
   "source": [
    "marketRisk = riskFactor(\"market\", list(set(data['symbol'].values)))\n",
    "marketRisk.getFactorReturnTS(data)\n",
    "marketRisk.storeData()\n",
    "#Liquidity Risk Bucket\n",
    "lowLiqRisk = riskFactor(\"Liq:low\", LiqBucketSyms['low'])\n",
    "lowLiqRisk.getFactorReturnTS(data)\n",
    "lowLiqRisk.storeData()\n",
    "\n",
    "medLiqRisk = riskFactor(\"Liq:med\", LiqBucketSyms['medium'])\n",
    "medLiqRisk.getFactorReturnTS(data)\n",
    "medLiqRisk.storeData()\n",
    "\n",
    "highLiqRisk = riskFactor(\"Liq:high\", LiqBucketSyms['high'])\n",
    "highLiqRisk.getFactorReturnTS(data)\n",
    "highLiqRisk.storeData()\n",
    "#Volatility Risk Bucket\n",
    "lowVolRisk = riskFactor(\"Vol:low\", VolBucketSyms['low'])\n",
    "lowVolRisk.getFactorReturnTS(data)\n",
    "lowVolRisk.storeData()\n",
    "\n",
    "medVolRisk = riskFactor(\"Vol:med\", VolBucketSyms['medium'])\n",
    "medVolRisk.getFactorReturnTS(data)\n",
    "medVolRisk.storeData()\n",
    "\n",
    "highVolRisk = riskFactor(\"Vol:high\", VolBucketSyms['high'])\n",
    "highVolRisk.getFactorReturnTS(data)\n",
    "highVolRisk.storeData()\n",
    "#Momentum Risk Bucket\n",
    "lowMomRisk = riskFactor(\"Mom:low\", MomBucketSyms['low'])\n",
    "lowMomRisk.getFactorReturnTS(data)\n",
    "lowMomRisk.storeData()\n",
    "\n",
    "medMomRisk = riskFactor(\"Mom:med\", MomBucketSyms['medium'])\n",
    "medMomRisk.getFactorReturnTS(data)\n",
    "medMomRisk.storeData()\n",
    "\n",
    "highMomRisk = riskFactor(\"Mom:high\", MomBucketSyms['high'])\n",
    "highMomRisk.getFactorReturnTS(data)\n",
    "highMomRisk.storeData()"
   ],
   "metadata": {
    "collapsed": false,
    "ExecuteTime": {
     "end_time": "2024-03-23T05:44:06.996161Z",
     "start_time": "2024-03-23T05:44:03.544224Z"
    }
   },
   "id": "8f9222beba032836",
   "execution_count": 301
  },
  {
   "cell_type": "code",
   "outputs": [
    {
     "data": {
      "text/plain": "'/Users/maoguan/workspace/RL-AMM/data/factorData/'"
     },
     "execution_count": 305,
     "metadata": {},
     "output_type": "execute_result"
    }
   ],
   "source": [
    "STOREPath"
   ],
   "metadata": {
    "collapsed": false,
    "ExecuteTime": {
     "end_time": "2024-03-23T05:45:01.321632Z",
     "start_time": "2024-03-23T05:45:01.316384Z"
    }
   },
   "id": "8a79153077fd3746",
   "execution_count": 305
  },
  {
   "cell_type": "code",
   "outputs": [],
   "source": [
    "marketRisk.factorRetTS.to_csv(STOREPath+\"marketRisk.csv\")"
   ],
   "metadata": {
    "collapsed": false,
    "ExecuteTime": {
     "end_time": "2024-03-23T05:45:08.764574Z",
     "start_time": "2024-03-23T05:45:08.604037Z"
    }
   },
   "id": "399dcedcd8dfc5b9",
   "execution_count": 306
  },
  {
   "cell_type": "code",
   "outputs": [],
   "source": [],
   "metadata": {
    "collapsed": false
   },
   "id": "6234248d4d5bf765"
  }
 ],
 "metadata": {
  "kernelspec": {
   "display_name": "Python 3",
   "language": "python",
   "name": "python3"
  },
  "language_info": {
   "codemirror_mode": {
    "name": "ipython",
    "version": 2
   },
   "file_extension": ".py",
   "mimetype": "text/x-python",
   "name": "python",
   "nbconvert_exporter": "python",
   "pygments_lexer": "ipython2",
   "version": "2.7.6"
  }
 },
 "nbformat": 4,
 "nbformat_minor": 5
}
