{
 "cells": [
  {
   "cell_type": "code",
   "execution_count": 1,
   "id": "initial_id",
   "metadata": {
    "ExecuteTime": {
     "end_time": "2024-03-24T17:09:36.545144Z",
     "start_time": "2024-03-24T17:09:22.763559Z"
    },
    "collapsed": true
   },
   "outputs": [
    {
     "name": "stderr",
     "output_type": "stream",
     "text": [
      "/var/folders/v7/9lvm55pn1fjf8b5b1vksfnwh0000gn/T/ipykernel_64432/3164020738.py:41: FutureWarning: The provided callable <function mean at 0x104bf9940> is currently using SeriesGroupBy.mean. In a future version of pandas, the provided callable will be used directly. To keep current behavior pass 'mean' instead.\n",
      "  mktReturn = data.groupby(\"origin_time\").agg({'return':np.mean})\n"
     ]
    }
   ],
   "source": [
    "import time\n",
    "from typing import Dict, List\n",
    "import pandas as pd\n",
    "import numpy as np\n",
    "import datetime\n",
    "import glob\n",
    "\n",
    "STOREPath =  \"../data/factorData/\"\n",
    "OHLCPath = \"../data/lakeAPIData/OHLC/\"\n",
    "\n",
    "# Use a custom list\n",
    "# TARGET = ['BNB-USDT', 'BTC-USDT', 'ETH-USDT', 'XRP-USDT']\n",
    "\n",
    "# Dynamically create the list from file names\n",
    "fileLists = glob.glob(OHLCPath + \"*\")\n",
    "TARGET = [file.split(\"/\")[-1].split(\".\")[0] for file in fileLists]\n",
    "\n",
    "fileLists = glob.glob(OHLCPath + \"*\")\n",
    "\n",
    "\n",
    "def extractDateFromTime(timestamp:pd.Timestamp)->datetime.date:\n",
    "    year = timestamp.year\n",
    "    month = timestamp.month\n",
    "    day = timestamp.day\n",
    "    date = datetime.datetime(year=year, month=month, day=day)\n",
    "    return date \n",
    "\n",
    "data = []\n",
    "\n",
    "for file in fileLists:\n",
    "\n",
    "    minuteLevelOHLC = pd.read_csv(file, compression=\"gzip\")\n",
    "    minuteLevelOHLC = minuteLevelOHLC.convert_dtypes()\n",
    "    minuteLevelOHLC['origin_time'] = pd.to_datetime(minuteLevelOHLC['origin_time'])\n",
    "    minuteLevelOHLC['date'] = minuteLevelOHLC['origin_time'].apply(lambda x : extractDateFromTime(x))\n",
    "    data += [minuteLevelOHLC]\n",
    "\n",
    "data = pd.concat(data)\n",
    "data['return'] = (data['close'] - data['open'])/data['open']\n",
    "#Market return is defined as the average return of all the cryptocurrencies return\n",
    "mktReturn = data.groupby(\"origin_time\").agg({'return':np.mean})\n",
    "mktReturn.rename(columns={'return':'mktReturn'}, inplace=True)\n",
    "data = pd.merge(data, mktReturn, on='origin_time', how='left')\n",
    "data = data.dropna()\n"
   ]
  },
  {
   "cell_type": "code",
   "execution_count": 2,
   "id": "19549497f3a544af",
   "metadata": {
    "ExecuteTime": {
     "end_time": "2024-03-24T17:10:23.633822Z",
     "start_time": "2024-03-24T17:10:22.857963Z"
    },
    "collapsed": false
   },
   "outputs": [],
   "source": [
    "TOTALNUMOFCOINS = len(set(data['symbol'].values))\n",
    "LOWLEVEL = int(TOTALNUMOFCOINS/3)\n",
    "HIGHLEVEL= int(TOTALNUMOFCOINS - TOTALNUMOFCOINS/3)"
   ]
  },
  {
   "cell_type": "code",
   "execution_count": 3,
   "id": "1d74a29eceb3c55d",
   "metadata": {
    "ExecuteTime": {
     "end_time": "2024-03-24T17:10:23.813306Z",
     "start_time": "2024-03-24T17:10:23.637570Z"
    },
    "collapsed": false
   },
   "outputs": [
    {
     "name": "stderr",
     "output_type": "stream",
     "text": [
      "/var/folders/v7/9lvm55pn1fjf8b5b1vksfnwh0000gn/T/ipykernel_64432/3442124573.py:3: FutureWarning: The provided callable <function mean at 0x104bf9940> is currently using SeriesGroupBy.mean. In a future version of pandas, the provided callable will be used directly. To keep current behavior pass 'mean' instead.\n",
      "  Liq = data.groupby(\"symbol\").agg({'trades':np.mean}).sort_values(by='trades')\n"
     ]
    }
   ],
   "source": [
    "def generateLiqBucketSymbols(data:pd.DataFrame)->Dict:\n",
    "    \"\"\"\"\"\"\n",
    "    Liq = data.groupby(\"symbol\").agg({'trades':np.mean}).sort_values(by='trades')\n",
    "    Liq.rename(columns={'trades':'Liq'}, inplace=True)\n",
    "    LOWLiq = Liq['Liq'].values[0:LOWLEVEL].max()\n",
    "    HIGHLiq = Liq['Liq'].values[0:HIGHLEVEL].max()\n",
    "    lowLiqSymbols = Liq[Liq['Liq']<=LOWLiq].reset_index()['symbol'].values\n",
    "    mediumLiqSymbols = Liq[(Liq['Liq']>LOWLiq)&(Liq['Liq']<HIGHLiq)].reset_index()['symbol'].values\n",
    "    highLiqSymbols = Liq[Liq['Liq']>=HIGHLiq].reset_index()['symbol'].values\n",
    "    return {'low': lowLiqSymbols, 'medium':mediumLiqSymbols, 'high':highLiqSymbols}\n",
    "\n",
    "LiqBucketSyms = generateLiqBucketSymbols(data)"
   ]
  },
  {
   "cell_type": "code",
   "execution_count": 4,
   "id": "cc2cf224638dc749",
   "metadata": {
    "ExecuteTime": {
     "end_time": "2024-03-24T17:10:27.102369Z",
     "start_time": "2024-03-24T17:10:24.402622Z"
    },
    "collapsed": false
   },
   "outputs": [],
   "source": [
    "def getBeta(xVar:str, yVar:str, df:pd.DataFrame) -> float:\n",
    "    df = df.sort_values(\"received_time\").set_index(\"received_time\")\n",
    "    x = df[xVar].values\n",
    "    y = df[yVar].values\n",
    "    beta = np.sum( (x - np.mean(x))*(y - np.mean(y)) ) / np.sum((x - np.mean(x))**2)\n",
    "    return beta \n",
    "\n",
    "\n",
    "Beta = data.groupby(\"symbol\").apply(lambda x : getBeta('return','mktReturn', x))\n",
    "Beta = pd.DataFrame({'beta':Beta})\n",
    "\n",
    "def generateVolBucketSymbols(Beta:pd.DataFrame) ->Dict:\n",
    "    Beta = Beta.sort_values(by='beta')\n",
    "    LOWBeta = Beta['beta'].values[0:LOWLEVEL].max()\n",
    "    HIGHBeta = Beta['beta'].values[0:HIGHLEVEL].max()\n",
    "    lowBetaSymbols = Beta[Beta['beta']<=LOWBeta].reset_index()['symbol'].values\n",
    "    mediumBetaSymbols = Beta[(Beta['beta']>LOWBeta)&(Beta['beta']<HIGHBeta)].reset_index()['symbol'].values\n",
    "    highBetaSymbols = Beta[Beta['beta']>=HIGHBeta].reset_index()['symbol'].values\n",
    "    return {'low':lowBetaSymbols, 'medium':mediumBetaSymbols, 'high':highBetaSymbols}\n",
    "\n",
    "VolBucketSyms = generateVolBucketSymbols(Beta)"
   ]
  },
  {
   "cell_type": "code",
   "execution_count": 5,
   "id": "14aec84a057bd03",
   "metadata": {
    "ExecuteTime": {
     "end_time": "2024-03-24T17:10:30.300416Z",
     "start_time": "2024-03-24T17:10:27.105777Z"
    },
    "collapsed": false
   },
   "outputs": [
    {
     "name": "stderr",
     "output_type": "stream",
     "text": [
      "/var/folders/v7/9lvm55pn1fjf8b5b1vksfnwh0000gn/T/ipykernel_64432/4035521881.py:12: FutureWarning: The provided callable <function mean at 0x104bf9940> is currently using SeriesGroupBy.mean. In a future version of pandas, the provided callable will be used directly. To keep current behavior pass 'mean' instead.\n",
      "  momentum = momentum.groupby([\"symbol\",\"date\"]).agg({'momentum':np.mean}).reset_index()\n"
     ]
    }
   ],
   "source": [
    "import functools\n",
    "\n",
    "def getMomentum(basicRet:str, df:pd.DataFrame, windows:List = [60,2*60, 3*60,6*60,12*60]) -> float:\n",
    "    df = df.sort_values(by='received_time')\n",
    "    for window in windows:\n",
    "        df[basicRet+str(window)] = df.rolling(window)['return'].sum()\n",
    "    df['momentum'] = functools.reduce(lambda a, b: a+b, [df[basicRet+str(window)] for window in windows])\n",
    "\n",
    "    return df \n",
    "\n",
    "momentum = data.groupby(\"symbol\").apply(lambda x: getMomentum('return',x)).reset_index(drop=True)\n",
    "momentum = momentum.groupby([\"symbol\",\"date\"]).agg({'momentum':np.mean}).reset_index()\n",
    "#last day momentum\n",
    "momentum = momentum[momentum['date'] == '2024-01-30']\n",
    "\n",
    "def generateMomBucketSymbols(Mom:pd.DataFrame, date:str)->Dict:\n",
    "    Mom = Mom[Mom['date']==date].sort_values(by='momentum')\n",
    "    LOWMom = Mom['momentum'].values[0:LOWLEVEL].max()\n",
    "    HIGHMom = Mom['momentum'].values[0:HIGHLEVEL].max()\n",
    "    lowMomSymbols = Mom[Mom['momentum']<=LOWMom].reset_index()['symbol'].values\n",
    "    mediumMomSymbols = Mom[(Mom['momentum']>LOWMom)&(Mom['momentum']<HIGHMom)].reset_index()['symbol'].values\n",
    "    highMomSymbols = Mom[Mom['momentum']>=HIGHMom].reset_index()['symbol'].values\n",
    "    return {'low':lowMomSymbols, 'medium':mediumMomSymbols, 'high':highMomSymbols}\n",
    "\n",
    "MomBucketSyms = generateMomBucketSymbols(momentum,'2024-01-30')"
   ]
  },
  {
   "cell_type": "code",
   "execution_count": 6,
   "id": "8dd8d947ea4ee040",
   "metadata": {
    "ExecuteTime": {
     "end_time": "2024-03-24T17:21:53.395322Z",
     "start_time": "2024-03-24T17:21:53.386634Z"
    },
    "collapsed": false
   },
   "outputs": [],
   "source": [
    "class riskFactor(object):\n",
    "    \n",
    "    def __init__(self, name, componentSymbols, freq = '1m'):\n",
    "        self._factorName = name\n",
    "        self._symbols = componentSymbols\n",
    "        self._freq = '1m'\n",
    "        return \n",
    "    \n",
    "    @property\n",
    "    def name(self):\n",
    "        return self._factorName\n",
    "    \n",
    "    @property\n",
    "    def symbols(self):\n",
    "        return self._symbols\n",
    "        \n",
    "    @property\n",
    "    def freq(self):\n",
    "        return self._freq\n",
    "    \n",
    "    @property\n",
    "    def factorRetTS(self):\n",
    "        return self._factorTS\n",
    "    \n",
    "    def getFactorReturnTS(self, data:pd.DataFrame)->pd.DataFrame:\n",
    "        \"\"\"\n",
    "        Calculate risk factor returns given frequency and symbols\n",
    "        Parameters\n",
    "        ----------\n",
    "        data: a panel dataframe with all symbols and their corresponding returns\n",
    "\n",
    "        Returns: a timeSeries table of risk factor returns and time\n",
    "        -------\n",
    "\n",
    "        \"\"\"\n",
    "        factorRet = data[data['symbol'].isin(self._symbols)].groupby(\"origin_time\").agg({'return':np.mean})\n",
    "        factorRet.rename(columns={'return':self._factorName}, inplace=True)\n",
    "        self._factorTS = factorRet\n",
    "        return \n",
    "        \n",
    "    \n",
    "    def storeData(self):\n",
    "        self._factorTS.to_csv(STOREPath+self._factorName+\".csv\", index = False)\n",
    "        \n",
    "\n",
    "class cryptoAsset(object):\n",
    "    \n",
    "    def __init__(self, symbol:str, sourceData:pd.DataFrame):\n",
    "        self._symbol = symbol \n",
    "        self._sourceData = sourceData\n",
    "        \n",
    "    @property\n",
    "    def symbol(self):\n",
    "        return self._symbol\n",
    "    \n",
    "    @property\n",
    "    def retTs(self):\n",
    "        data = self._sourceData[self._sourceData['symbol'] == self._symbol][['date','origin_time','symbol','return']]\n",
    "        return data\n",
    "    \n",
    "        \n",
    "BNB  = cryptoAsset('BNB-USDT', data)\n",
    "BTC  = cryptoAsset('BTC-USDT', data)\n",
    "ETH  = cryptoAsset('ETH-USDT', data)\n",
    "XRP  = cryptoAsset('XRP-USDT', data)\n"
   ]
  },
  {
   "cell_type": "markdown",
   "id": "9214727f80878cb8",
   "metadata": {
    "collapsed": false
   },
   "source": [
    "## Systematic Risk Factors\n",
    "\n",
    ">* Liquidity: High,Medium, Low, liquidity is defined as the average trading volume\n",
    ">* Momentum: High, Medium, Low, momentum is defined as the crypto's past 3 hour, 6 hours, 12 hours, 18 hours\n",
    ">* Market: Average crypto coins return\n",
    ">* Volatility: High, Medium, Low, defined as the beta coefficient to the market risk"
   ]
  },
  {
   "cell_type": "code",
   "execution_count": 7,
   "id": "8f9222beba032836",
   "metadata": {
    "ExecuteTime": {
     "end_time": "2024-03-24T17:10:44.185397Z",
     "start_time": "2024-03-24T17:10:40.153811Z"
    },
    "collapsed": false
   },
   "outputs": [
    {
     "name": "stderr",
     "output_type": "stream",
     "text": [
      "/var/folders/v7/9lvm55pn1fjf8b5b1vksfnwh0000gn/T/ipykernel_64432/1075514776.py:36: FutureWarning: The provided callable <function mean at 0x104bf9940> is currently using SeriesGroupBy.mean. In a future version of pandas, the provided callable will be used directly. To keep current behavior pass 'mean' instead.\n",
      "  factorRet = data[data['symbol'].isin(self._symbols)].groupby(\"origin_time\").agg({'return':np.mean})\n",
      "/var/folders/v7/9lvm55pn1fjf8b5b1vksfnwh0000gn/T/ipykernel_64432/1075514776.py:36: FutureWarning: The provided callable <function mean at 0x104bf9940> is currently using SeriesGroupBy.mean. In a future version of pandas, the provided callable will be used directly. To keep current behavior pass 'mean' instead.\n",
      "  factorRet = data[data['symbol'].isin(self._symbols)].groupby(\"origin_time\").agg({'return':np.mean})\n",
      "/var/folders/v7/9lvm55pn1fjf8b5b1vksfnwh0000gn/T/ipykernel_64432/1075514776.py:36: FutureWarning: The provided callable <function mean at 0x104bf9940> is currently using SeriesGroupBy.mean. In a future version of pandas, the provided callable will be used directly. To keep current behavior pass 'mean' instead.\n",
      "  factorRet = data[data['symbol'].isin(self._symbols)].groupby(\"origin_time\").agg({'return':np.mean})\n",
      "/var/folders/v7/9lvm55pn1fjf8b5b1vksfnwh0000gn/T/ipykernel_64432/1075514776.py:36: FutureWarning: The provided callable <function mean at 0x104bf9940> is currently using SeriesGroupBy.mean. In a future version of pandas, the provided callable will be used directly. To keep current behavior pass 'mean' instead.\n",
      "  factorRet = data[data['symbol'].isin(self._symbols)].groupby(\"origin_time\").agg({'return':np.mean})\n",
      "/var/folders/v7/9lvm55pn1fjf8b5b1vksfnwh0000gn/T/ipykernel_64432/1075514776.py:36: FutureWarning: The provided callable <function mean at 0x104bf9940> is currently using SeriesGroupBy.mean. In a future version of pandas, the provided callable will be used directly. To keep current behavior pass 'mean' instead.\n",
      "  factorRet = data[data['symbol'].isin(self._symbols)].groupby(\"origin_time\").agg({'return':np.mean})\n",
      "/var/folders/v7/9lvm55pn1fjf8b5b1vksfnwh0000gn/T/ipykernel_64432/1075514776.py:36: FutureWarning: The provided callable <function mean at 0x104bf9940> is currently using SeriesGroupBy.mean. In a future version of pandas, the provided callable will be used directly. To keep current behavior pass 'mean' instead.\n",
      "  factorRet = data[data['symbol'].isin(self._symbols)].groupby(\"origin_time\").agg({'return':np.mean})\n",
      "/var/folders/v7/9lvm55pn1fjf8b5b1vksfnwh0000gn/T/ipykernel_64432/1075514776.py:36: FutureWarning: The provided callable <function mean at 0x104bf9940> is currently using SeriesGroupBy.mean. In a future version of pandas, the provided callable will be used directly. To keep current behavior pass 'mean' instead.\n",
      "  factorRet = data[data['symbol'].isin(self._symbols)].groupby(\"origin_time\").agg({'return':np.mean})\n",
      "/var/folders/v7/9lvm55pn1fjf8b5b1vksfnwh0000gn/T/ipykernel_64432/1075514776.py:36: FutureWarning: The provided callable <function mean at 0x104bf9940> is currently using SeriesGroupBy.mean. In a future version of pandas, the provided callable will be used directly. To keep current behavior pass 'mean' instead.\n",
      "  factorRet = data[data['symbol'].isin(self._symbols)].groupby(\"origin_time\").agg({'return':np.mean})\n",
      "/var/folders/v7/9lvm55pn1fjf8b5b1vksfnwh0000gn/T/ipykernel_64432/1075514776.py:36: FutureWarning: The provided callable <function mean at 0x104bf9940> is currently using SeriesGroupBy.mean. In a future version of pandas, the provided callable will be used directly. To keep current behavior pass 'mean' instead.\n",
      "  factorRet = data[data['symbol'].isin(self._symbols)].groupby(\"origin_time\").agg({'return':np.mean})\n",
      "/var/folders/v7/9lvm55pn1fjf8b5b1vksfnwh0000gn/T/ipykernel_64432/1075514776.py:36: FutureWarning: The provided callable <function mean at 0x104bf9940> is currently using SeriesGroupBy.mean. In a future version of pandas, the provided callable will be used directly. To keep current behavior pass 'mean' instead.\n",
      "  factorRet = data[data['symbol'].isin(self._symbols)].groupby(\"origin_time\").agg({'return':np.mean})\n"
     ]
    }
   ],
   "source": [
    "marketRisk = riskFactor(\"market\", list(set(data['symbol'].values)))\n",
    "marketRisk.getFactorReturnTS(data)\n",
    "marketRisk.storeData()\n",
    "#Liquidity Risk Bucket\n",
    "lowLiqRisk = riskFactor(\"Liq:low\", LiqBucketSyms['low'])\n",
    "lowLiqRisk.getFactorReturnTS(data)\n",
    "lowLiqRisk.storeData()\n",
    "\n",
    "medLiqRisk = riskFactor(\"Liq:med\", LiqBucketSyms['medium'])\n",
    "medLiqRisk.getFactorReturnTS(data)\n",
    "medLiqRisk.storeData()\n",
    "\n",
    "highLiqRisk = riskFactor(\"Liq:high\", LiqBucketSyms['high'])\n",
    "highLiqRisk.getFactorReturnTS(data)\n",
    "highLiqRisk.storeData()\n",
    "#Volatility Risk Bucket\n",
    "lowVolRisk = riskFactor(\"Vol:low\", VolBucketSyms['low'])\n",
    "lowVolRisk.getFactorReturnTS(data)\n",
    "lowVolRisk.storeData()\n",
    "\n",
    "medVolRisk = riskFactor(\"Vol:med\", VolBucketSyms['medium'])\n",
    "medVolRisk.getFactorReturnTS(data)\n",
    "medVolRisk.storeData()\n",
    "\n",
    "highVolRisk = riskFactor(\"Vol:high\", VolBucketSyms['high'])\n",
    "highVolRisk.getFactorReturnTS(data)\n",
    "highVolRisk.storeData()\n",
    "#Momentum Risk Bucket\n",
    "lowMomRisk = riskFactor(\"Mom:low\", MomBucketSyms['low'])\n",
    "lowMomRisk.getFactorReturnTS(data)\n",
    "lowMomRisk.storeData()\n",
    "\n",
    "medMomRisk = riskFactor(\"Mom:med\", MomBucketSyms['medium'])\n",
    "medMomRisk.getFactorReturnTS(data)\n",
    "medMomRisk.storeData()\n",
    "\n",
    "highMomRisk = riskFactor(\"Mom:high\", MomBucketSyms['high'])\n",
    "highMomRisk.getFactorReturnTS(data)\n",
    "highMomRisk.storeData()"
   ]
  },
  {
   "cell_type": "code",
   "execution_count": 8,
   "id": "399dcedcd8dfc5b9",
   "metadata": {
    "collapsed": false,
    "is_executing": true
   },
   "outputs": [],
   "source": [
    "from numpy.linalg import inv\n",
    "import os\n",
    "\n",
    "class factorRiskModel(object):\n",
    "    \n",
    "    def __init__(self, riskFactors:List[riskFactor], coin:cryptoAsset ):\n",
    "        self._coin = coin\n",
    "        self._riskFactors = riskFactors\n",
    "        self._factorNames = None\n",
    "    \n",
    "    @property\n",
    "    def symbol(self):\n",
    "        return self._coin.symbol\n",
    "    \n",
    "    @property\n",
    "    def riskFactors(self):\n",
    "        factors = []\n",
    "        for rf in self._riskFactors:\n",
    "            factors += [rf.name]\n",
    "        return factors\n",
    "    \n",
    "    def rollingReg(self, df:pd.DataFrame, xvar:List[str], yvar:str, window:int)->pd.DataFrame:\n",
    "        from numpy.linalg import inv\n",
    "        Y = df[yvar].rolling(window)\n",
    "        X = df[xvar].rolling(window)\n",
    "        \n",
    "        i = 1 \n",
    "        for x,y in zip(X,Y):\n",
    "            \n",
    "            x = x.values.astype('float').reshape(-1,len(xvar))\n",
    "            ones = np.ones((x.shape[0],1))\n",
    "            x = np.concatenate([ones, x], axis = 1).reshape(-1,len(xvar) + 1)\n",
    "            y = y.values.astype('float').reshape(-1,1)\n",
    "\n",
    "            coefs = np.dot(inv(np.dot(x.T,x)),np.dot(x.T,y))\n",
    "            # reg_param = 1e-6\n",
    "            # coefs = np.dot(inv(np.dot(x.T, x) + reg_param * np.eye(x.shape[1])), np.dot(x.T, y))\n",
    "            Yhat = np.dot(x, coefs)\n",
    "            yMean = np.mean(y)\n",
    "            Rsqrd = 1 - np.sum((y-Yhat)**2)/np.sum((y - yMean)**2)\n",
    "            RsqrdAdj = 1 - (1-Rsqrd)*(x.shape[0] - 1)/(x.shape[0] - 1 - len(xvar))\n",
    "            df.loc[window + i, 'Rsqrd'] = Rsqrd\n",
    "            df.loc[window + i, 'RsqrdAdj'] = RsqrdAdj\n",
    "            for j in range(len(coefs)):\n",
    "                if j == 0:\n",
    "                   df.loc[window+i,'constant'] = coefs[j][0]\n",
    "                else:\n",
    "                    df.loc[window+i,xvar[j-1]+'_coef'] = coefs[j][0]\n",
    "            \n",
    "            i += 1\n",
    "        return df \n",
    "\n",
    "    def calcRiskExposure(self, window=720)->pd.DataFrame:\n",
    "        \"\"\"\n",
    "        calculate a rolling time series regression to get the dynamic risk exposure per coin to systematic risk factors\n",
    "        Parameters\n",
    "        ----------\n",
    "        window\n",
    "\n",
    "        Returns a time series of risk exposures\n",
    "        -------\n",
    "\n",
    "        \"\"\"\n",
    "        data = self._coin.retTs\n",
    "        for rf in self._riskFactors:\n",
    "            data = pd.merge(data, rf.factorRetTS, on = 'origin_time', how = 'left')\n",
    "        \n",
    "        #1440=60*24 hour rolling risk model\n",
    "        rollFactorExposure = self.rollingReg(data.dropna(), self.riskFactors, 'return', 1440).dropna()\n",
    "\n",
    "        return rollFactorExposure\n",
    "    \n",
    "    def saveRiskExposure(self, exposure_df: pd.DataFrame, file_path: str):\n",
    "        directory = os.path.dirname(file_path)\n",
    "        if not os.path.exists(directory):\n",
    "            os.makedirs(directory)\n",
    "        exposure_df.to_csv(file_path, index=False)\n",
    "\n",
    "    \n",
    "riskFactors = [marketRisk,lowLiqRisk,medLiqRisk,highLiqRisk,lowVolRisk,medVolRisk,highVolRisk,lowMomRisk,medMomRisk,highMomRisk]\n",
    "\n"
   ]
  },
  {
   "cell_type": "code",
   "execution_count": 9,
   "id": "ee8edc23f62912f9",
   "metadata": {
    "ExecuteTime": {
     "start_time": "2024-03-26T04:26:37.018320Z"
    },
    "collapsed": false,
    "is_executing": true
   },
   "outputs": [
    {
     "ename": "LinAlgError",
     "evalue": "Singular matrix",
     "output_type": "error",
     "traceback": [
      "\u001b[0;31m---------------------------------------------------------------------------\u001b[0m",
      "\u001b[0;31mLinAlgError\u001b[0m                               Traceback (most recent call last)",
      "Cell \u001b[0;32mIn[9], line 5\u001b[0m\n\u001b[1;32m      1\u001b[0m \u001b[38;5;66;03m#get risk factor exposure and R2 and adj R2 \u001b[39;00m\n\u001b[1;32m      2\u001b[0m \n\u001b[1;32m      3\u001b[0m \u001b[38;5;66;03m# Calculate factor exposures for each asset\u001b[39;00m\n\u001b[1;32m      4\u001b[0m fmBTC \u001b[38;5;241m=\u001b[39m factorRiskModel(riskFactors, BTC)\n\u001b[0;32m----> 5\u001b[0m BTCFactorExposure \u001b[38;5;241m=\u001b[39m \u001b[43mfmBTC\u001b[49m\u001b[38;5;241;43m.\u001b[39;49m\u001b[43mcalcRiskExposure\u001b[49m\u001b[43m(\u001b[49m\u001b[43m)\u001b[49m\n\u001b[1;32m      6\u001b[0m fmBTC\u001b[38;5;241m.\u001b[39msaveRiskExposure(BTCFactorExposure, \u001b[38;5;124m'\u001b[39m\u001b[38;5;124m../data/factorData/exposures/BTCFactorExposure.csv\u001b[39m\u001b[38;5;124m'\u001b[39m)\n\u001b[1;32m      8\u001b[0m fmBNB \u001b[38;5;241m=\u001b[39m factorRiskModel(riskFactors, BNB)\n",
      "Cell \u001b[0;32mIn[8], line 68\u001b[0m, in \u001b[0;36mfactorRiskModel.calcRiskExposure\u001b[0;34m(self, window)\u001b[0m\n\u001b[1;32m     65\u001b[0m     data \u001b[38;5;241m=\u001b[39m pd\u001b[38;5;241m.\u001b[39mmerge(data, rf\u001b[38;5;241m.\u001b[39mfactorRetTS, on \u001b[38;5;241m=\u001b[39m \u001b[38;5;124m'\u001b[39m\u001b[38;5;124morigin_time\u001b[39m\u001b[38;5;124m'\u001b[39m, how \u001b[38;5;241m=\u001b[39m \u001b[38;5;124m'\u001b[39m\u001b[38;5;124mleft\u001b[39m\u001b[38;5;124m'\u001b[39m)\n\u001b[1;32m     67\u001b[0m \u001b[38;5;66;03m#1440=60*24 hour rolling risk model\u001b[39;00m\n\u001b[0;32m---> 68\u001b[0m rollFactorExposure \u001b[38;5;241m=\u001b[39m \u001b[38;5;28;43mself\u001b[39;49m\u001b[38;5;241;43m.\u001b[39;49m\u001b[43mrollingReg\u001b[49m\u001b[43m(\u001b[49m\u001b[43mdata\u001b[49m\u001b[38;5;241;43m.\u001b[39;49m\u001b[43mdropna\u001b[49m\u001b[43m(\u001b[49m\u001b[43m)\u001b[49m\u001b[43m,\u001b[49m\u001b[43m \u001b[49m\u001b[38;5;28;43mself\u001b[39;49m\u001b[38;5;241;43m.\u001b[39;49m\u001b[43mriskFactors\u001b[49m\u001b[43m,\u001b[49m\u001b[43m \u001b[49m\u001b[38;5;124;43m'\u001b[39;49m\u001b[38;5;124;43mreturn\u001b[39;49m\u001b[38;5;124;43m'\u001b[39;49m\u001b[43m,\u001b[49m\u001b[43m \u001b[49m\u001b[38;5;241;43m1440\u001b[39;49m\u001b[43m)\u001b[49m\u001b[38;5;241m.\u001b[39mdropna()\n\u001b[1;32m     70\u001b[0m \u001b[38;5;28;01mreturn\u001b[39;00m rollFactorExposure\n",
      "Cell \u001b[0;32mIn[8], line 34\u001b[0m, in \u001b[0;36mfactorRiskModel.rollingReg\u001b[0;34m(self, df, xvar, yvar, window)\u001b[0m\n\u001b[1;32m     31\u001b[0m x \u001b[38;5;241m=\u001b[39m np\u001b[38;5;241m.\u001b[39mconcatenate([ones, x], axis \u001b[38;5;241m=\u001b[39m \u001b[38;5;241m1\u001b[39m)\u001b[38;5;241m.\u001b[39mreshape(\u001b[38;5;241m-\u001b[39m\u001b[38;5;241m1\u001b[39m,\u001b[38;5;28mlen\u001b[39m(xvar) \u001b[38;5;241m+\u001b[39m \u001b[38;5;241m1\u001b[39m)\n\u001b[1;32m     32\u001b[0m y \u001b[38;5;241m=\u001b[39m y\u001b[38;5;241m.\u001b[39mvalues\u001b[38;5;241m.\u001b[39mastype(\u001b[38;5;124m'\u001b[39m\u001b[38;5;124mfloat\u001b[39m\u001b[38;5;124m'\u001b[39m)\u001b[38;5;241m.\u001b[39mreshape(\u001b[38;5;241m-\u001b[39m\u001b[38;5;241m1\u001b[39m,\u001b[38;5;241m1\u001b[39m)\n\u001b[0;32m---> 34\u001b[0m coefs \u001b[38;5;241m=\u001b[39m np\u001b[38;5;241m.\u001b[39mdot(\u001b[43minv\u001b[49m\u001b[43m(\u001b[49m\u001b[43mnp\u001b[49m\u001b[38;5;241;43m.\u001b[39;49m\u001b[43mdot\u001b[49m\u001b[43m(\u001b[49m\u001b[43mx\u001b[49m\u001b[38;5;241;43m.\u001b[39;49m\u001b[43mT\u001b[49m\u001b[43m,\u001b[49m\u001b[43mx\u001b[49m\u001b[43m)\u001b[49m\u001b[43m)\u001b[49m,np\u001b[38;5;241m.\u001b[39mdot(x\u001b[38;5;241m.\u001b[39mT,y))\n\u001b[1;32m     35\u001b[0m \u001b[38;5;66;03m# reg_param = 1e-6\u001b[39;00m\n\u001b[1;32m     36\u001b[0m \u001b[38;5;66;03m# coefs = np.dot(inv(np.dot(x.T, x) + reg_param * np.eye(x.shape[1])), np.dot(x.T, y))\u001b[39;00m\n\u001b[1;32m     37\u001b[0m Yhat \u001b[38;5;241m=\u001b[39m np\u001b[38;5;241m.\u001b[39mdot(x, coefs)\n",
      "File \u001b[0;32m<__array_function__ internals>:200\u001b[0m, in \u001b[0;36minv\u001b[0;34m(*args, **kwargs)\u001b[0m\n",
      "File \u001b[0;32m/opt/homebrew/lib/python3.11/site-packages/numpy/linalg/linalg.py:538\u001b[0m, in \u001b[0;36minv\u001b[0;34m(a)\u001b[0m\n\u001b[1;32m    536\u001b[0m signature \u001b[38;5;241m=\u001b[39m \u001b[38;5;124m'\u001b[39m\u001b[38;5;124mD->D\u001b[39m\u001b[38;5;124m'\u001b[39m \u001b[38;5;28;01mif\u001b[39;00m isComplexType(t) \u001b[38;5;28;01melse\u001b[39;00m \u001b[38;5;124m'\u001b[39m\u001b[38;5;124md->d\u001b[39m\u001b[38;5;124m'\u001b[39m\n\u001b[1;32m    537\u001b[0m extobj \u001b[38;5;241m=\u001b[39m get_linalg_error_extobj(_raise_linalgerror_singular)\n\u001b[0;32m--> 538\u001b[0m ainv \u001b[38;5;241m=\u001b[39m \u001b[43m_umath_linalg\u001b[49m\u001b[38;5;241;43m.\u001b[39;49m\u001b[43minv\u001b[49m\u001b[43m(\u001b[49m\u001b[43ma\u001b[49m\u001b[43m,\u001b[49m\u001b[43m \u001b[49m\u001b[43msignature\u001b[49m\u001b[38;5;241;43m=\u001b[39;49m\u001b[43msignature\u001b[49m\u001b[43m,\u001b[49m\u001b[43m \u001b[49m\u001b[43mextobj\u001b[49m\u001b[38;5;241;43m=\u001b[39;49m\u001b[43mextobj\u001b[49m\u001b[43m)\u001b[49m\n\u001b[1;32m    539\u001b[0m \u001b[38;5;28;01mreturn\u001b[39;00m wrap(ainv\u001b[38;5;241m.\u001b[39mastype(result_t, copy\u001b[38;5;241m=\u001b[39m\u001b[38;5;28;01mFalse\u001b[39;00m))\n",
      "File \u001b[0;32m/opt/homebrew/lib/python3.11/site-packages/numpy/linalg/linalg.py:89\u001b[0m, in \u001b[0;36m_raise_linalgerror_singular\u001b[0;34m(err, flag)\u001b[0m\n\u001b[1;32m     88\u001b[0m \u001b[38;5;28;01mdef\u001b[39;00m \u001b[38;5;21m_raise_linalgerror_singular\u001b[39m(err, flag):\n\u001b[0;32m---> 89\u001b[0m     \u001b[38;5;28;01mraise\u001b[39;00m LinAlgError(\u001b[38;5;124m\"\u001b[39m\u001b[38;5;124mSingular matrix\u001b[39m\u001b[38;5;124m\"\u001b[39m)\n",
      "\u001b[0;31mLinAlgError\u001b[0m: Singular matrix"
     ]
    }
   ],
   "source": [
    "#get risk factor exposure and R2 and adj R2 \n",
    "\n",
    "# Calculate factor exposures for each asset\n",
    "fmBTC = factorRiskModel(riskFactors, BTC)\n",
    "BTCFactorExposure = fmBTC.calcRiskExposure()\n",
    "fmBTC.saveRiskExposure(BTCFactorExposure, '../data/factorData/exposures/BTCFactorExposure.csv')\n",
    "\n",
    "fmBNB = factorRiskModel(riskFactors, BNB)\n",
    "BNBFactorExposure = fmBNB.calcRiskExposure()\n",
    "fmBNB.saveRiskExposure(BNBFactorExposure, '../data/factorData/exposures/BNBFactorExposure.csv')\n",
    "\n",
    "fmETH = factorRiskModel(riskFactors, ETH)\n",
    "ETHFactorExposure = fmETH.calcRiskExposure()\n",
    "fmETH.saveRiskExposure(ETHFactorExposure, '../data/factorData/exposures/ETHFactorExposure.csv')\n",
    "\n",
    "fmXRP = factorRiskModel(riskFactors, XRP)\n",
    "XRPFactorExposure = fmXRP.calcRiskExposure()\n",
    "fmXRP.saveRiskExposure(XRPFactorExposure, '../data/factorData/exposures/XRPFactorExposure.csv')\n"
   ]
  },
  {
   "cell_type": "markdown",
   "id": "c68c4e6a569d8b76",
   "metadata": {
    "collapsed": false
   },
   "source": []
  },
  {
   "cell_type": "code",
   "execution_count": null,
   "id": "6234248d4d5bf765",
   "metadata": {
    "collapsed": false
   },
   "outputs": [],
   "source": []
  }
 ],
 "metadata": {
  "kernelspec": {
   "display_name": "Python 3",
   "language": "python",
   "name": "python3"
  },
  "language_info": {
   "codemirror_mode": {
    "name": "ipython",
    "version": 3
   },
   "file_extension": ".py",
   "mimetype": "text/x-python",
   "name": "python",
   "nbconvert_exporter": "python",
   "pygments_lexer": "ipython3",
   "version": "3.11.5"
  }
 },
 "nbformat": 4,
 "nbformat_minor": 5
}
